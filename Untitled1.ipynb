{
 "cells": [
  {
   "cell_type": "code",
   "execution_count": 1,
   "metadata": {},
   "outputs": [],
   "source": [
    "# web cam photo click\n",
    "# pip install opencv-python\n",
    "import cv2"
   ]
  },
  {
   "cell_type": "code",
   "execution_count": 2,
   "metadata": {},
   "outputs": [],
   "source": [
    "cap=cv2.VideoCapture(0)\n",
    "myphoto=\"deepak.jpg\"\n",
    "ret, photo=cap.read()\n",
    "cv2.imwrite(myphoto, photo)\n",
    "cap.release()"
   ]
  },
  {
   "cell_type": "code",
   "execution_count": 3,
   "metadata": {},
   "outputs": [],
   "source": [
    "# upload photo into cloud storage :  S3\n",
    "region = \"ap-south-1\"\n",
    "bucket = \"aiworkshop123\""
   ]
  },
  {
   "cell_type": "code",
   "execution_count": 4,
   "metadata": {},
   "outputs": [],
   "source": [
    "import boto3"
   ]
  },
  {
   "cell_type": "code",
   "execution_count": 5,
   "metadata": {},
   "outputs": [],
   "source": [
    "s3 = boto3.resource('s3')\n",
    "\n",
    "s3.Bucket(bucket).upload_file(myphoto , myphoto)"
   ]
  },
  {
   "cell_type": "code",
   "execution_count": 16,
   "metadata": {},
   "outputs": [],
   "source": [
    "# connnect rek : ask for part method\n",
    "rek = boto3.client('rekognition' , region )\n",
    "\n",
    "response = rek.detect_faces(\n",
    "\n",
    " Image={\n",
    "          'S3Object': {\n",
    "              'Bucket': bucket,\n",
    "              'Name': myphoto,\n",
    "          }\n",
    "      },\n",
    "    Attributes=['ALL']\n",
    ")"
   ]
  },
  {
   "cell_type": "code",
   "execution_count": null,
   "metadata": {},
   "outputs": [],
   "source": [
    "\n"
   ]
  },
  {
   "cell_type": "code",
   "execution_count": null,
   "metadata": {},
   "outputs": [],
   "source": []
  },
  {
   "cell_type": "code",
   "execution_count": 18,
   "metadata": {},
   "outputs": [],
   "source": [
    "    #response"
   ]
  },
  {
   "cell_type": "code",
   "execution_count": 21,
   "metadata": {},
   "outputs": [],
   "source": [
    "if response['FaceDetails'][0]['Smile']['Value']==False:\n",
    "    if response['FaceDetails'][0]['Smile']['Confidence']>60:\n",
    "        x=\"whats the problem deepak, why not happy?\"\n",
    "    else:\n",
    "        x=\"you seems bit ok\"\n",
    "else:\n",
    "    x=\"so happy, very good deepak\"\n",
    "    \n"
   ]
  },
  {
   "cell_type": "code",
   "execution_count": 22,
   "metadata": {},
   "outputs": [],
   "source": [
    "#initialize polly to speak\n",
    "po=boto3.client('polly')"
   ]
  },
  {
   "cell_type": "code",
   "execution_count": 31,
   "metadata": {},
   "outputs": [
    {
     "data": {
      "text/plain": [
       "11800"
      ]
     },
     "execution_count": 31,
     "metadata": {},
     "output_type": "execute_result"
    }
   ],
   "source": [
    "#some polly output in mp3 format \n",
    "res=po.synthesize_speech(Text=x, OutputFormat='mp3', VoiceId='Joanna')\n",
    "file=open('myaudio.mp3', 'wb')\n",
    "file.write(res['AudioStream'].read())"
   ]
  },
  {
   "cell_type": "code",
   "execution_count": 37,
   "metadata": {},
   "outputs": [
    {
     "data": {
      "text/html": [
       "\n",
       "                <audio  controls=\"controls\" >\n",
       "                    <source src=\"data:audio/mpeg;base64,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\" type=\"audio/mpeg\" />\n",
       "                    Your browser does not support the audio element.\n",
       "                </audio>\n",
       "              "
      ],
      "text/plain": [
       "<IPython.lib.display.Audio object>"
      ]
     },
     "execution_count": 37,
     "metadata": {},
     "output_type": "execute_result"
    }
   ],
   "source": [
    "#listen the output audio\n",
    "import IPython\n",
    "IPython.display.Audio(\"myaudio.mp3\")"
   ]
  },
  {
   "cell_type": "code",
   "execution_count": null,
   "metadata": {},
   "outputs": [],
   "source": []
  }
 ],
 "metadata": {
  "kernelspec": {
   "display_name": "Python 3",
   "language": "python",
   "name": "python3"
  },
  "language_info": {
   "codemirror_mode": {
    "name": "ipython",
    "version": 3
   },
   "file_extension": ".py",
   "mimetype": "text/x-python",
   "name": "python",
   "nbconvert_exporter": "python",
   "pygments_lexer": "ipython3",
   "version": "3.8.5"
  }
 },
 "nbformat": 4,
 "nbformat_minor": 4
}
